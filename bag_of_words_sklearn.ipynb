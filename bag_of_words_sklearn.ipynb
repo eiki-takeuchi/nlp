{
 "cells": [
  {
   "cell_type": "code",
   "execution_count": 42,
   "metadata": {},
   "outputs": [
    {
     "data": {
      "text/plain": [
       "['engineer',\n",
       " 'good',\n",
       " 'interested',\n",
       " 'politics',\n",
       " 'sample',\n",
       " 'sentence',\n",
       " 'software']"
      ]
     },
     "execution_count": 42,
     "metadata": {},
     "output_type": "execute_result"
    }
   ],
   "source": [
    "from sklearn.feature_extraction.text import CountVectorizer\n",
    "\n",
    "# Sample sentences.\n",
    "sentences = [\n",
    "    \"This is a sample sentence\",\n",
    "    \"I am interested in politics\",\n",
    "    \"You are a very good software engineer, engineer.\",\n",
    "]\n",
    "\n",
    "# Create CountVectorizer, which create bag-of-words model.\n",
    "# stop_words : Specify language to remove stopwords. \n",
    "vectorizer = CountVectorizer(stop_words='english')\n",
    "\n",
    "# Learn vocabulary in sentences. \n",
    "vectorizer.fit(sentences)\n",
    "\n",
    "# Get dictionary. \n",
    "vectorizer.get_feature_names()"
   ]
  },
  {
   "cell_type": "code",
   "execution_count": 49,
   "metadata": {},
   "outputs": [
    {
     "data": {
      "text/plain": [
       "array([[0, 0, 0, 0, 1, 1, 0],\n",
       "       [0, 0, 1, 1, 0, 0, 0],\n",
       "       [2, 1, 0, 0, 0, 0, 1]])"
      ]
     },
     "execution_count": 49,
     "metadata": {},
     "output_type": "execute_result"
    }
   ],
   "source": [
    "# Transform each sentences in vector space.\n",
    "vector = vectorizer.transform(sentences)\n",
    "vector_spaces = vector.toarray()\n",
    "\n",
    "vector_spaces"
   ]
  },
  {
   "cell_type": "code",
   "execution_count": 44,
   "metadata": {},
   "outputs": [
    {
     "name": "stdout",
     "output_type": "stream",
     "text": [
      "This is a sample sentence\n",
      "[0 0 0 0 1 1 0]\n",
      "I am interested in politics\n",
      "[0 0 1 1 0 0 0]\n",
      "You are a very good software engineer, engineer.\n",
      "[2 1 0 0 0 0 1]\n"
     ]
    }
   ],
   "source": [
    "# Show sentences and vector space representation.\n",
    "for i, v in zip(sentences, vector_spaces):\n",
    "    print(i)\n",
    "    print(v)"
   ]
  }
 ],
 "metadata": {
  "kernelspec": {
   "display_name": "Python 3",
   "language": "python",
   "name": "python3"
  },
  "language_info": {
   "codemirror_mode": {
    "name": "ipython",
    "version": 3
   },
   "file_extension": ".py",
   "mimetype": "text/x-python",
   "name": "python",
   "nbconvert_exporter": "python",
   "pygments_lexer": "ipython3",
   "version": "3.6.8"
  }
 },
 "nbformat": 4,
 "nbformat_minor": 2
}
