{
 "cells": [
  {
   "cell_type": "code",
   "execution_count": 25,
   "metadata": {},
   "outputs": [
    {
     "data": {
      "text/plain": [
       "[['human', 'interface', 'computer'],\n",
       " ['survey', 'user', 'computer', 'system', 'response', 'time'],\n",
       " ['eps', 'user', 'interface', 'system'],\n",
       " ['system', 'human', 'system', 'eps'],\n",
       " ['user', 'response', 'time'],\n",
       " ['trees'],\n",
       " ['graph', 'trees'],\n",
       " ['graph', 'minors', 'trees'],\n",
       " ['graph', 'minors', 'survey']]"
      ]
     },
     "execution_count": 25,
     "metadata": {},
     "output_type": "execute_result"
    }
   ],
   "source": [
    "from gensim.test.utils import common_texts, get_tmpfile\n",
    "from gensim.models import Word2Vec\n",
    "\n",
    "# Get document data.\n",
    "common_texts"
   ]
  },
  {
   "cell_type": "code",
   "execution_count": 18,
   "metadata": {},
   "outputs": [
    {
     "data": {
      "text/plain": [
       "array([-4.5199655e-03, -2.3857469e-03,  4.1265488e-03, -1.1606077e-03,\n",
       "        2.4196331e-03, -4.1374089e-03, -5.7505432e-04,  4.5687552e-03,\n",
       "       -1.5410781e-03, -1.7676625e-03, -7.7583024e-04,  2.0190459e-03,\n",
       "        1.8225854e-03, -2.6989710e-03, -1.4141807e-03, -2.6824484e-03,\n",
       "        3.8593905e-03, -1.3102823e-03, -7.4076361e-04,  1.1627959e-03,\n",
       "        3.9162738e-03, -4.1201613e-03, -4.0529105e-03,  3.6943527e-03,\n",
       "        2.1778878e-03, -1.4221107e-03,  1.2314598e-03,  5.6257524e-04,\n",
       "        3.5610071e-03,  3.6619043e-03, -1.5882676e-03,  4.3701758e-03,\n",
       "       -1.0391368e-04, -1.4591037e-03, -3.6294488e-04, -4.9993950e-03,\n",
       "       -4.1455156e-03, -2.6272615e-05, -1.6679580e-03,  4.8263883e-03,\n",
       "        3.7108217e-03,  1.7053356e-03, -4.4059358e-03,  3.4806302e-03,\n",
       "       -1.2201112e-03,  3.9094370e-03, -1.6203468e-05,  2.1173900e-03,\n",
       "       -3.3968659e-03,  3.3940466e-03,  4.2071287e-03, -2.0987872e-04,\n",
       "        1.7719723e-03, -4.8697805e-03,  7.4246322e-04,  5.8713550e-04,\n",
       "        3.1062455e-03,  3.4036767e-03,  3.6425090e-03, -4.1759093e-03,\n",
       "       -4.9556266e-03,  2.1193998e-03,  3.4770633e-03,  9.5955253e-04,\n",
       "        3.4965223e-03, -3.5723378e-03,  1.9409936e-03, -1.8107850e-03,\n",
       "        1.4369806e-03,  2.1211470e-03,  1.5610996e-04, -2.1325252e-03,\n",
       "       -1.2827553e-03, -4.4858698e-03,  1.7916312e-03, -2.2805370e-03,\n",
       "       -4.4422843e-03,  3.5037454e-03,  2.2951853e-03,  4.8690624e-04,\n",
       "        2.2137810e-03,  2.6270174e-03,  1.3924453e-03, -2.4780591e-03,\n",
       "        1.5482610e-03,  3.2436983e-03,  2.1195330e-03, -4.2988122e-03,\n",
       "       -3.0461228e-03, -3.2208199e-03,  4.3802295e-04, -2.7931454e-03,\n",
       "       -1.5079926e-03,  2.0305709e-04,  4.8897043e-03, -4.5734700e-03,\n",
       "        3.4107107e-03,  2.4794766e-03,  4.4103083e-03,  1.3854777e-03],\n",
       "      dtype=float32)"
      ]
     },
     "execution_count": 18,
     "metadata": {},
     "output_type": "execute_result"
    }
   ],
   "source": [
    "# Word2Vec modeling. \n",
    "model = Word2Vec(common_texts, size=100, window=5, min_count=1, workers=4)\n",
    "\n",
    "# Get specified vocabulary's vector. \n",
    "model.wv[\"computer\"]"
   ]
  },
  {
   "cell_type": "code",
   "execution_count": 22,
   "metadata": {},
   "outputs": [
    {
     "data": {
      "text/plain": [
       "[('trees', 0.2335365265607834),\n",
       " ('interface', 0.15793877840042114),\n",
       " ('response', 0.106266550719738),\n",
       " ('survey', 0.041811101138591766),\n",
       " ('human', 0.01925555430352688),\n",
       " ('system', 0.00848701223731041),\n",
       " ('eps', 0.0007057040929794312),\n",
       " ('user', -0.002929339185357094),\n",
       " ('minors', -0.014737403020262718),\n",
       " ('time', -0.03829720988869667)]"
      ]
     },
     "execution_count": 22,
     "metadata": {},
     "output_type": "execute_result"
    }
   ],
   "source": [
    "# Get most similar words of \"computer\"\n",
    "model.wv.most_similar(\"computer\")"
   ]
  }
 ],
 "metadata": {
  "kernelspec": {
   "display_name": "Python 3",
   "language": "python",
   "name": "python3"
  },
  "language_info": {
   "codemirror_mode": {
    "name": "ipython",
    "version": 3
   },
   "file_extension": ".py",
   "mimetype": "text/x-python",
   "name": "python",
   "nbconvert_exporter": "python",
   "pygments_lexer": "ipython3",
   "version": "3.6.8"
  }
 },
 "nbformat": 4,
 "nbformat_minor": 2
}
