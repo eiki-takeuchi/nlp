{
 "cells": [
  {
   "cell_type": "code",
   "execution_count": 2,
   "metadata": {},
   "outputs": [
    {
     "name": "stdout",
     "output_type": "stream",
     "text": [
      "God is love => soc.religion.christian\n",
      "OpenGL on the GPU is fast => rec.autos\n",
      "United states goes to Iraq => talk.politics.mideast\n"
     ]
    }
   ],
   "source": [
    "# Get training data.\n",
    "from sklearn.datasets import fetch_20newsgroups\n",
    "news_groups_train = fetch_20newsgroups(subset=\"train\")\n",
    "\n",
    "# Create dictionary and transform to feature vectors.\n",
    "from sklearn.feature_extraction.text import CountVectorizer\n",
    "count_vector = CountVectorizer()\n",
    "X_train_counts = count_vector.fit_transform(news_groups_train.data)\n",
    "\n",
    "# TF-IDF vectorize.\n",
    "from sklearn.feature_extraction.text import TfidfTransformer\n",
    "tfidf_transformer = TfidfTransformer()\n",
    "X_train_tfidf = tfidf_transformer.fit_transform(X_train_counts)\n",
    "\n",
    "# Create model(naive bayes) and training. \n",
    "from sklearn.naive_bayes import MultinomialNB\n",
    "clf = MultinomialNB().fit(X_train_tfidf, news_groups_train.target)\n",
    "\n",
    "# Create test documents and vectorize.\n",
    "docs_new = ['God is love', 'OpenGL on the GPU is fast', \"United states goes to Iraq\"]\n",
    "X_new_counts = count_vector.transform(docs_new)\n",
    "X_new_tfidf = tfidf_transformer.transform(X_new_counts)\n",
    "\n",
    "# Execute prediction(classification).\n",
    "predicted = clf.predict(X_new_tfidf)\n",
    "\n",
    "# Show predicted data.\n",
    "for doc, category in zip(docs_new, predicted):\n",
    "    print(\"{0} => {1}\".format(doc, news_groups_train.target_names[category]))\n",
    "    "
   ]
  }
 ],
 "metadata": {
  "kernelspec": {
   "display_name": "Python 3",
   "language": "python",
   "name": "python3"
  },
  "language_info": {
   "codemirror_mode": {
    "name": "ipython",
    "version": 3
   },
   "file_extension": ".py",
   "mimetype": "text/x-python",
   "name": "python",
   "nbconvert_exporter": "python",
   "pygments_lexer": "ipython3",
   "version": "3.7.0"
  }
 },
 "nbformat": 4,
 "nbformat_minor": 2
}
