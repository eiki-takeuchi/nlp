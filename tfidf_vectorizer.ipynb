{
 "cells": [
  {
   "cell_type": "code",
   "execution_count": 31,
   "metadata": {},
   "outputs": [
    {
     "data": {
      "text/plain": [
       "{'this': 11,\n",
       " 'is': 6,\n",
       " 'sample': 8,\n",
       " 'sentence': 9,\n",
       " 'am': 0,\n",
       " 'interested': 5,\n",
       " 'in': 4,\n",
       " 'politics': 7,\n",
       " 'you': 13,\n",
       " 'are': 1,\n",
       " 'very': 12,\n",
       " 'good': 3,\n",
       " 'software': 10,\n",
       " 'engineer': 2}"
      ]
     },
     "execution_count": 31,
     "metadata": {},
     "output_type": "execute_result"
    }
   ],
   "source": [
    "from sklearn.feature_extraction.text import TfidfVectorizer\n",
    "\n",
    "sentences = [\n",
    "    \"This is a sample sentence\",\n",
    "    \"I am interested in politics\",\n",
    "    \"You are a very good software engineer, engineer.\",\n",
    "]\n",
    "\n",
    "# Create TfidfVectorizer.\n",
    "vectorizer = TfidfVectorizer()\n",
    "\n",
    "# Learn vocabulary from sentences. \n",
    "vectorizer.fit(sentences)\n",
    "\n",
    "# Get vocabular\n",
    "vectorizer.vocabulary_"
   ]
  },
  {
   "cell_type": "code",
   "execution_count": 20,
   "metadata": {},
   "outputs": [
    {
     "data": {
      "text/plain": [
       "array([[0.        , 0.        , 0.        , 0.        , 0.        ,\n",
       "        0.        , 0.5       , 0.        , 0.5       , 0.5       ,\n",
       "        0.        , 0.5       , 0.        , 0.        ],\n",
       "       [0.5       , 0.        , 0.        , 0.        , 0.5       ,\n",
       "        0.5       , 0.        , 0.5       , 0.        , 0.        ,\n",
       "        0.        , 0.        , 0.        , 0.        ],\n",
       "       [0.        , 0.33333333, 0.66666667, 0.33333333, 0.        ,\n",
       "        0.        , 0.        , 0.        , 0.        , 0.        ,\n",
       "        0.33333333, 0.        , 0.33333333, 0.33333333]])"
      ]
     },
     "execution_count": 20,
     "metadata": {},
     "output_type": "execute_result"
    }
   ],
   "source": [
    "# Transform to document-term matrix\n",
    "vector_spaces = vectorizer.transform(sentences)\n",
    "vector_spaces.toarray()"
   ]
  },
  {
   "cell_type": "code",
   "execution_count": 18,
   "metadata": {},
   "outputs": [
    {
     "name": "stdout",
     "output_type": "stream",
     "text": [
      "This is a sample sentence\n",
      "  (0, 11)\t0.5\n",
      "  (0, 9)\t0.5\n",
      "  (0, 8)\t0.5\n",
      "  (0, 6)\t0.5\n",
      "I am interested in politics\n",
      "  (0, 7)\t0.5\n",
      "  (0, 5)\t0.5\n",
      "  (0, 4)\t0.5\n",
      "  (0, 0)\t0.5\n",
      "You are a very good software engineer, engineer.\n",
      "  (0, 13)\t0.3333333333333333\n",
      "  (0, 12)\t0.3333333333333333\n",
      "  (0, 10)\t0.3333333333333333\n",
      "  (0, 3)\t0.3333333333333333\n",
      "  (0, 2)\t0.6666666666666666\n",
      "  (0, 1)\t0.3333333333333333\n"
     ]
    }
   ],
   "source": [
    "# Show sentences and vector space representation.\n",
    "# \n",
    "# (A, B) C\n",
    "# A : Document Index\n",
    "# B : Specific word-vector index\n",
    "# C : TF-IDF score\n",
    "for i, v in zip(sentences, vector_spaces):\n",
    "    print(i)\n",
    "    print(v)"
   ]
  },
  {
   "cell_type": "code",
   "execution_count": null,
   "metadata": {},
   "outputs": [],
   "source": []
  }
 ],
 "metadata": {
  "kernelspec": {
   "display_name": "Python 3",
   "language": "python",
   "name": "python3"
  },
  "language_info": {
   "codemirror_mode": {
    "name": "ipython",
    "version": 3
   },
   "file_extension": ".py",
   "mimetype": "text/x-python",
   "name": "python",
   "nbconvert_exporter": "python",
   "pygments_lexer": "ipython3",
   "version": "3.6.8"
  }
 },
 "nbformat": 4,
 "nbformat_minor": 2
}
