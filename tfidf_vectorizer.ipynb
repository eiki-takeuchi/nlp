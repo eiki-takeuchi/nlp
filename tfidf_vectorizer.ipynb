{
 "cells": [
  {
   "cell_type": "code",
   "execution_count": 34,
   "metadata": {},
   "outputs": [
    {
     "data": {
      "text/plain": [
       "{'sample': 4,\n",
       " 'sentence': 5,\n",
       " 'interested': 2,\n",
       " 'politics': 3,\n",
       " 'good': 1,\n",
       " 'software': 6,\n",
       " 'engineer': 0}"
      ]
     },
     "execution_count": 34,
     "metadata": {},
     "output_type": "execute_result"
    }
   ],
   "source": [
    "from sklearn.feature_extraction.text import TfidfVectorizer\n",
    "\n",
    "sentences = [\n",
    "    \"This is a sample sentence\",\n",
    "    \"I am interested in politics\",\n",
    "    \"You are a very good software engineer, engineer.\",\n",
    "]\n",
    "\n",
    "# Create TfidfVectorizer.\n",
    "# stop_words : Get rid of english stop words. \n",
    "vectorizer = TfidfVectorizer(stop_words='english')\n",
    "\n",
    "# Learn vocabulary from sentences. \n",
    "vectorizer.fit(sentences)\n",
    "\n",
    "# Get vocabularies.\n",
    "vectorizer.vocabulary_"
   ]
  },
  {
   "cell_type": "code",
   "execution_count": 35,
   "metadata": {},
   "outputs": [
    {
     "data": {
      "text/plain": [
       "array([[0.        , 0.        , 0.        , 0.        , 0.70710678,\n",
       "        0.70710678, 0.        ],\n",
       "       [0.        , 0.        , 0.70710678, 0.70710678, 0.        ,\n",
       "        0.        , 0.        ],\n",
       "       [0.81649658, 0.40824829, 0.        , 0.        , 0.        ,\n",
       "        0.        , 0.40824829]])"
      ]
     },
     "execution_count": 35,
     "metadata": {},
     "output_type": "execute_result"
    }
   ],
   "source": [
    "# Transform to document-term matrix\n",
    "vector_spaces = vectorizer.transform(sentences)\n",
    "vector_spaces.toarray()"
   ]
  },
  {
   "cell_type": "code",
   "execution_count": 36,
   "metadata": {},
   "outputs": [
    {
     "name": "stdout",
     "output_type": "stream",
     "text": [
      "This is a sample sentence\n",
      "  (0, 5)\t0.7071067811865476\n",
      "  (0, 4)\t0.7071067811865476\n",
      "I am interested in politics\n",
      "  (0, 3)\t0.7071067811865476\n",
      "  (0, 2)\t0.7071067811865476\n",
      "You are a very good software engineer, engineer.\n",
      "  (0, 6)\t0.40824829046386296\n",
      "  (0, 1)\t0.40824829046386296\n",
      "  (0, 0)\t0.8164965809277259\n"
     ]
    }
   ],
   "source": [
    "# Show sentences and vector space representation.\n",
    "# \n",
    "# (A, B) C\n",
    "# A : Document Index\n",
    "# B : Specific word-vector index\n",
    "# C : TF-IDF score\n",
    "for i, v in zip(sentences, vector_spaces):\n",
    "    print(i)\n",
    "    print(v)"
   ]
  }
 ],
 "metadata": {
  "kernelspec": {
   "display_name": "Python 3",
   "language": "python",
   "name": "python3"
  },
  "language_info": {
   "codemirror_mode": {
    "name": "ipython",
    "version": 3
   },
   "file_extension": ".py",
   "mimetype": "text/x-python",
   "name": "python",
   "nbconvert_exporter": "python",
   "pygments_lexer": "ipython3",
   "version": "3.6.8"
  }
 },
 "nbformat": 4,
 "nbformat_minor": 2
}
